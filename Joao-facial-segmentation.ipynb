{
 "cells": [
  {
   "cell_type": "code",
   "execution_count": 2,
   "id": "63426d9a-f861-4009-a490-59af2650e889",
   "metadata": {},
   "outputs": [],
   "source": [
    "from PIL import Image\n",
    "\n",
    "background = Image.open(\"raw_data/facial_segmentation/image/0001_0001.jpg\")"
   ]
  },
  {
   "cell_type": "code",
   "execution_count": 4,
   "id": "802b8d02",
   "metadata": {},
   "outputs": [],
   "source": [
    "foreground = Image.open(\"raw_data/facial_segmentation/masks/seg/0001_0001.png\")"
   ]
  },
  {
   "cell_type": "code",
   "execution_count": 7,
   "id": "2636e4db",
   "metadata": {},
   "outputs": [],
   "source": [
    "background.paste(foreground, (0,0), foreground)"
   ]
  },
  {
   "cell_type": "code",
   "execution_count": 10,
   "id": "21234f3f",
   "metadata": {},
   "outputs": [],
   "source": [
    "background.show()"
   ]
  }
 ],
 "metadata": {
  "kernelspec": {
   "display_name": "Python 3 (ipykernel)",
   "language": "python",
   "name": "python3"
  },
  "language_info": {
   "codemirror_mode": {
    "name": "ipython",
    "version": 3
   },
   "file_extension": ".py",
   "mimetype": "text/x-python",
   "name": "python",
   "nbconvert_exporter": "python",
   "pygments_lexer": "ipython3",
   "version": "3.10.6"
  }
 },
 "nbformat": 4,
 "nbformat_minor": 5
}
