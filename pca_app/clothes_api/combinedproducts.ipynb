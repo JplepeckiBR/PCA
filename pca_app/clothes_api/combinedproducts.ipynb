{
 "cells": [
  {
   "cell_type": "code",
   "execution_count": null,
   "metadata": {},
   "outputs": [],
   "source": [
    "import pandas as pd\n",
    "\n",
    "# Load the first CSV file (name, dominant color)\n",
    "df1 = pd.read_csv('nike ')\n",
    "df1 = df1.rename(columns={'name': 'Product name', 'dominant color': 'hex color'})\n",
    "\n",
    "# Load the second CSV file (product name, hex color)\n",
    "df2 = pd.read_csv('makeup ')\n",
    "df2 = df2.rename(columns={'product name': 'Product name', 'hex color': 'hex color'})\n",
    "\n",
    "# Load the third CSV file (title, img)\n",
    "df3 = pd.read_csv('big clothes')\n",
    "df3 = df3.rename(columns={'title': 'Product name', 'img': 'hex color'})\n",
    "\n",
    "# Concatenate all DataFrames into a single DataFrame\n",
    "final_df = pd.concat([df1, df2, df3], ignore_index=True)\n",
    "\n",
    "# Display the final DataFrame\n",
    "print(final_df.head())\n",
    "\n",
    "\n"
   ]
  }
 ],
 "metadata": {
  "language_info": {
   "name": "python"
  }
 },
 "nbformat": 4,
 "nbformat_minor": 2
}
