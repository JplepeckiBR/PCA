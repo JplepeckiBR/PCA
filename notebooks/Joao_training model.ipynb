{
 "cells": [
  {
   "cell_type": "code",
   "execution_count": null,
   "metadata": {},
   "outputs": [],
   "source": [
    "import os\n",
    "from sklearn.model_selection import train_test_split\n",
    "import numpy as np\n",
    "import tensorflow as tf\n",
    "from tensorflow.keras.layers import Input, Conv2D, MaxPooling2D, UpSampling2D, concatenate, Dropout, BatchNormalization\n",
    "from tensorflow.keras.models import Model\n",
    "from tensorflow.keras.utils import img_to_array, load_img"
   ]
  },
  {
   "cell_type": "code",
   "execution_count": null,
   "metadata": {},
   "outputs": [],
   "source": [
    "#paths to files\n",
    "image_dir = \"../raw_data/facial_segmentation/image/\"\n",
    "mask_dir = \"../raw_data/facial_segmentation/masks/seg/\"\n",
    "\n",
    "#variables that hold file names\n",
    "image_filenames = os.listdir(image_dir)\n",
    "mask_filenames = os.listdir(mask_dir)\n",
    "\n",
    "#sorting file names\n",
    "image_filenames.sort()\n",
    "mask_filenames.sort()"
   ]
  },
  {
   "cell_type": "code",
   "execution_count": null,
   "metadata": {},
   "outputs": [],
   "source": [
    "size_of_file = 1000\n",
    "# training on size of file number of images training\n",
    "image_filenames = image_filenames[:size_of_file]\n",
    "mask_filenames = mask_filenames[:size_of_file]\n",
    "\n",
    "IMG_SIZE = (256, 256)\n",
    "\n",
    "images = []\n",
    "masks = []"
   ]
  },
  {
   "cell_type": "code",
   "execution_count": null,
   "metadata": {},
   "outputs": [],
   "source": [
    "# Load and resize the selected images and masks\n",
    "for image_filename, mask_filename in zip(image_filenames, mask_filenames):\n",
    "    # Load and preprocess the face image\n",
    "    img = load_img(os.path.join(image_dir, image_filename), target_size=IMG_SIZE)\n",
    "    img = img_to_array(img) / 255.0  # Normalize to [0, 1]\n",
    "    # Load and preprocess the mask\n",
    "    mask = load_img(os.path.join(mask_dir, mask_filename), target_size=IMG_SIZE, color_mode=\"grayscale\")\n",
    "    mask = img_to_array(mask) / 255.0  # Normalize to [0, 1]\n",
    "    mask = np.round(mask)  # Ensure binary mask (0 or 1)\n",
    "    images.append(img)\n",
    "    masks.append(mask)\n",
    "# Convert lists to numpy arrays\n",
    "images = np.array(images)\n",
    "masks = np.array(masks)"
   ]
  },
  {
   "cell_type": "code",
   "execution_count": null,
   "metadata": {},
   "outputs": [],
   "source": [
    "# Split into training and validation sets (80% training, 20% validation)\n",
    "X_train, X_test, y_train, y_test = train_test_split(images, masks, test_size=0.2, random_state=42)\n",
    "# Print shapes to confirm the split\n",
    "print(f\"Training data shape: {X_train.shape}, Training masks shape: {y_train.shape}\")\n",
    "print(f\"Test data shape: {X_test.shape}, Test masks shape: {y_test.shape}\")"
   ]
  },
  {
   "cell_type": "code",
   "execution_count": null,
   "metadata": {},
   "outputs": [],
   "source": []
  }
 ],
 "metadata": {
  "kernelspec": {
   "display_name": "PCA",
   "language": "python",
   "name": "python3"
  },
  "language_info": {
   "codemirror_mode": {
    "name": "ipython",
    "version": 3
   },
   "file_extension": ".py",
   "mimetype": "text/x-python",
   "name": "python",
   "nbconvert_exporter": "python",
   "pygments_lexer": "ipython3",
   "version": "3.10.6"
  }
 },
 "nbformat": 4,
 "nbformat_minor": 2
}
