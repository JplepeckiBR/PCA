{
 "cells": [
  {
   "cell_type": "code",
   "execution_count": null,
   "id": "039fd8c5",
   "metadata": {},
   "outputs": [],
   "source": [
    "!pwd"
   ]
  },
  {
   "cell_type": "code",
   "execution_count": null,
   "id": "63426d9a-f861-4009-a490-59af2650e889",
   "metadata": {},
   "outputs": [],
   "source": [
    "from PIL import Image\n",
    "import numpy as np\n",
    "from PIL import Image\n",
    "import os\n",
    "\n",
    "# Check the current working directory\n",
    "print(\"Current Working Directory:\", os.getcwd())\n",
    "\n",
    "# Correct path considering the script location\n",
    "base_dir = \"/Users/amierzuhri/code/JplepeckiBR/PCA/raw_data/facial_segmentation\"\n",
    "image_path = os.path.join(base_dir, \"image/0028_0009.jpg\")\n",
    "mask_path = os.path.join(base_dir, \"mask/0028_0009.png\")\n",
    "\n",
    "# Try opening the image\n",
    "try:\n",
    "    background = Image.open(image_path)\n",
    "    foreground = Image.open(mask_path)\n",
    "    print(\"Images opened successfully.\")\n",
    "except FileNotFoundError as e:\n",
    "    print(f\"Error: {e}\")"
   ]
  },
  {
   "cell_type": "code",
   "execution_count": null,
   "id": "84a95f6c",
   "metadata": {},
   "outputs": [],
   "source": [
    "background = Image.open(image_path)"
   ]
  },
  {
   "cell_type": "code",
   "execution_count": null,
   "id": "5ac0926f",
   "metadata": {},
   "outputs": [],
   "source": [
    "foreground = Image.open(mask_path)"
   ]
  },
  {
   "cell_type": "code",
   "execution_count": null,
   "id": "5543e8fe",
   "metadata": {},
   "outputs": [],
   "source": [
    "R = np.array(background)[:,:,0]"
   ]
  },
  {
   "cell_type": "code",
   "execution_count": null,
   "id": "a247ad29",
   "metadata": {},
   "outputs": [],
   "source": [
    "G = np.array(background)[:,:,1]"
   ]
  },
  {
   "cell_type": "code",
   "execution_count": null,
   "id": "3077f55c",
   "metadata": {},
   "outputs": [],
   "source": [
    "B = np.array(background)[:,:,2]"
   ]
  },
  {
   "cell_type": "code",
   "execution_count": null,
   "id": "9b473c12",
   "metadata": {},
   "outputs": [],
   "source": [
    "RGB = np.dstack(((R*np.array(foreground)),(G*np.array(foreground)) ,(B*np.array(foreground))))\n",
    "RGB[0]"
   ]
  },
  {
   "cell_type": "code",
   "execution_count": null,
   "id": "414d59f4",
   "metadata": {},
   "outputs": [],
   "source": [
    "import matplotlib.pyplot as plt\n",
    "plt.imshow(np.array(background))"
   ]
  },
  {
   "cell_type": "code",
   "execution_count": null,
   "id": "2e9364de",
   "metadata": {},
   "outputs": [],
   "source": [
    "set(np.array(foreground).flatten())"
   ]
  },
  {
   "cell_type": "code",
   "execution_count": null,
   "id": "7857c31c",
   "metadata": {},
   "outputs": [],
   "source": [
    "everything_but_the_face = np.dstack((R*(np.array(foreground)==0),G*(np.array(foreground)==0) ,B*(np.array(foreground)==0)))\n",
    "plt.imshow(everything_but_the_face )"
   ]
  },
  {
   "cell_type": "code",
   "execution_count": null,
   "id": "8e5c7194",
   "metadata": {},
   "outputs": [],
   "source": [
    "skin = np.dstack((R*(np.array(foreground)==1),G*(np.array(foreground)==1) ,B*(np.array(foreground)==1)))\n",
    "plt.imshow(skin)"
   ]
  },
  {
   "cell_type": "code",
   "execution_count": null,
   "id": "aa919522",
   "metadata": {},
   "outputs": [],
   "source": [
    "right_brow = np.dstack((R*(np.array(foreground) ==2),G*(np.array(foreground) ==2) ,B*(np.array(foreground)==2)))"
   ]
  },
  {
   "cell_type": "code",
   "execution_count": null,
   "id": "55e60b32",
   "metadata": {},
   "outputs": [],
   "source": [
    "left_brow = np.dstack((R*(np.array(foreground)==3),G*(np.array(foreground)==3) ,B*(np.array(foreground)==3)))"
   ]
  },
  {
   "cell_type": "code",
   "execution_count": null,
   "id": "0dfa9fd2",
   "metadata": {},
   "outputs": [],
   "source": [
    "brows = right_brow + left_brow\n",
    "plt.imshow(brows)"
   ]
  },
  {
   "cell_type": "code",
   "execution_count": null,
   "id": "2759de64",
   "metadata": {},
   "outputs": [],
   "source": [
    "right_eye = np.dstack((R*(np.array(foreground)==4),G*(np.array(foreground)==4) ,B*(np.array(foreground)==4)))\n"
   ]
  },
  {
   "cell_type": "code",
   "execution_count": null,
   "id": "ae93da43",
   "metadata": {},
   "outputs": [],
   "source": [
    "left_eye = np.dstack((R*(np.array(foreground)==5),G*(np.array(foreground)==5) ,B*(np.array(foreground)==5)))"
   ]
  },
  {
   "cell_type": "code",
   "execution_count": null,
   "id": "d6712bd9",
   "metadata": {},
   "outputs": [],
   "source": [
    "eyes = left_eye + right_eye\n",
    "plt.imshow(eyes)"
   ]
  },
  {
   "cell_type": "code",
   "execution_count": null,
   "id": "fd5aa13e",
   "metadata": {},
   "outputs": [],
   "source": [
    "lowerlip = np.dstack((R*(np.array(foreground)==7),G*(np.array(foreground)==7) ,B*(np.array(foreground)==7)))\n"
   ]
  },
  {
   "cell_type": "code",
   "execution_count": null,
   "id": "a386c551",
   "metadata": {},
   "outputs": [],
   "source": [
    "upperlip = np.dstack((R*(np.array(foreground)==9),G*(np.array(foreground)==9) ,B*(np.array(foreground)==9)))\n"
   ]
  },
  {
   "cell_type": "code",
   "execution_count": null,
   "id": "a791d1d8",
   "metadata": {},
   "outputs": [],
   "source": [
    "lips = upperlip + lowerlip\n",
    "plt.imshow(lips)"
   ]
  },
  {
   "cell_type": "code",
   "execution_count": null,
   "id": "6eca0f8b",
   "metadata": {},
   "outputs": [],
   "source": [
    "hair = np.dstack((R*(np.array(foreground)==10),G*(np.array(foreground)==10) ,B*(np.array(foreground)==10)))\n",
    "plt.imshow(hair)"
   ]
  },
  {
   "cell_type": "code",
   "execution_count": null,
   "id": "756becca",
   "metadata": {},
   "outputs": [],
   "source": [
    "plt.imshow(np.array(foreground)==10)"
   ]
  },
  {
   "cell_type": "code",
   "execution_count": null,
   "id": "a2d2334e",
   "metadata": {},
   "outputs": [],
   "source": [
    "type(hair)"
   ]
  },
  {
   "cell_type": "code",
   "execution_count": null,
   "id": "2346a171",
   "metadata": {},
   "outputs": [],
   "source": [
    "#face_features = [skin, hair, brows, lips ]\n"
   ]
  },
  {
   "cell_type": "code",
   "execution_count": null,
   "id": "73c1eb9c",
   "metadata": {},
   "outputs": [],
   "source": [
    "## Flatten the segment to (num_pixels, 3) where 3 represents the RGB channels\n",
    "#flat_segment = hair.reshape(-1,3)\n"
   ]
  },
  {
   "cell_type": "code",
   "execution_count": null,
   "id": "e90bc268",
   "metadata": {},
   "outputs": [],
   "source": [
    "## Filter out zero pixels (background) by checking where any of the channels is non-zero\n",
    "#non_zero_pixels = flat_segment[np.any(flat_segment != 0, axis=1)]"
   ]
  },
  {
   "cell_type": "code",
   "execution_count": null,
   "id": "ae866431",
   "metadata": {},
   "outputs": [],
   "source": [
    "## Calculate the mean for each channel\n",
    "#mean_red = np.mean(non_zero_pixels[:, 0])\n",
    "#mean_green = np.mean(non_zero_pixels[:, 1])\n",
    "#mean_blue = np.mean(non_zero_pixels[:, 2])\n",
    "def average_color(segment):\n",
    "    \"\"\"\n",
    "    Finds the average color of a segment by filtering out background pixels and calculating the mean RGB value.\n",
    "\n",
    "    Args:\n",
    "    segment (numpy.ndarray): A 3D numpy array representing a segment of an image (height, width, RGB).\n",
    "\n",
    "    Returns:\n",
    "    tuple: A tuple of three integers representing the average RGB color.\n",
    "    \"\"\"\n",
    "    # Flatten the segment to (num_pixels, 3)\n",
    "    flat_segment = segment.reshape(-1, 3)\n",
    "\n",
    "    # Filter out zero pixels (background) by checking where any of the channels is non-zero\n",
    "    non_zero_pixels = flat_segment[np.any(flat_segment != 0, axis=1)]\n",
    "\n",
    "    # If there are no non-zero pixels, return a default color (e.g., black)\n",
    "    if len(non_zero_pixels) == 0:\n",
    "        return (0, 0, 0)\n",
    "\n",
    "    # Calculate the mean for each channel\n",
    "    mean_red = np.mean(non_zero_pixels[:, 0])\n",
    "    mean_green = np.mean(non_zero_pixels[:, 1])\n",
    "    mean_blue = np.mean(non_zero_pixels[:, 2])\n",
    "\n",
    "    # Return the mean values as a tuple of integers\n",
    "    return (int(mean_red), int(mean_green), int(mean_blue))\n"
   ]
  },
  {
   "cell_type": "code",
   "execution_count": null,
   "id": "a2e3eadb",
   "metadata": {},
   "outputs": [],
   "source": [
    "average_skin_color = average_color(skin)\n",
    "average_brows_color = average_color(brows)\n",
    "average_eyes_color = average_color(eyes)\n",
    "average_lips_color = average_color(lips)\n",
    "average_hair_color = average_color(hair)"
   ]
  },
  {
   "cell_type": "code",
   "execution_count": null,
   "id": "57f136c5",
   "metadata": {},
   "outputs": [],
   "source": [
    "import numpy as np\n",
    "import matplotlib.pyplot as plt\n",
    "\n",
    "def euclidean_distance(color1, color2):\n",
    "    \"\"\"\n",
    "    Calculate the Euclidean distance between two RGB colors.\n",
    "    \"\"\"\n",
    "    R1, G1, B1 = color1\n",
    "    R2, G2, B2 = color2\n",
    "    return np.sqrt((R1 - R2) ** 2 + (G1 - G2) ** 2)\n",
    "\n",
    "def knn_closest_colors(target_color, color_palette, k=3):\n",
    "    \"\"\"\n",
    "    Find the K closest colors from a palette to the target color using Euclidean distance.\n",
    "\n",
    "    Args:\n",
    "    target_color (tuple): RGB values of the target color.\n",
    "    color_palette (list): List of RGB tuples representing the color palette.\n",
    "    k (int): Number of closest colors to find.\n",
    "\n",
    "    Returns:\n",
    "    list: The K closest RGB colors from the palette.\n",
    "    \"\"\"\n",
    "    distances = [(color, euclidean_distance(target_color, color)) for color in color_palette]\n",
    "    distances.sort(key=lambda x: x[1])  # Sort by distance\n",
    "    return [color for color, _ in distances[:k]]\n",
    "\n",
    "def visualize_color(color, title):\n",
    "    \"\"\"\n",
    "    Visualize a solid color image.\n",
    "\n",
    "    Args:\n",
    "    color (tuple): RGB tuple representing the color to visualize.\n",
    "    title (str): The title of the plot.\n",
    "    \"\"\"\n",
    "    # Create a 100x100 image of the specified color\n",
    "    image = np.ones((100, 100, 3))\n",
    "    image[:, :, 0] *= color[0] / 255.0\n",
    "    image[:, :, 1] *= color[1] / 255.0\n",
    "    image[:, :, 2] *= color[2] / 255.0\n",
    "\n",
    "    plt.imshow(image)\n",
    "    plt.title(title)\n",
    "    plt.axis('off')\n",
    "    plt.show()\n",
    "\n",
    "def visualize_palette(palette, title):\n",
    "    \"\"\"\n",
    "    Visualize a palette of colors in a horizontal bar.\n",
    "\n",
    "    Args:\n",
    "    palette (list): List of RGB tuples representing the color palette.\n",
    "    title (str): The title of the plot.\n",
    "    \"\"\"\n",
    "    # Create an image with a row of color blocks\n",
    "    palette_image = np.ones((50, len(palette) * 50, 3))\n",
    "    for i, color in enumerate(palette):\n",
    "        palette_image[:, i * 50:(i + 1) * 50] = [c / 255.0 for c in color]\n",
    "\n",
    "    plt.imshow(palette_image)\n",
    "    plt.title(title)\n",
    "    plt.axis('off')\n",
    "    plt.show()\n",
    "\n",
    "# def analyze_combined_palette_knn(feature_colors, k=3):\n",
    "#     \"\"\"\n",
    "#     Analyzes and finds the K closest colors from predefined palettes to the combined facial feature colors using KNN.\n",
    "\n",
    "#     Args:\n",
    "#     feature_colors (list): List of RGB values of the facial feature colors.\n",
    "#     k (int): Number of nearest neighbors to consider.\n",
    "\n",
    "#     Returns:\n",
    "#     None: Prints the closest colors from each palette and the closest overall palette.\n",
    "#     \"\"\"\n",
    "#     spring_palette = [\n",
    "#         (255, 223, 186), (255, 236, 179), (240, 191, 139), (233, 141, 154),\n",
    "#         (255, 239, 213), (250, 240, 190), (255, 222, 173), (152, 251, 152),\n",
    "#         (255, 182, 193), (250, 218, 221), (245, 245, 220), (255, 192, 203),\n",
    "#         (250, 250, 210), (230, 230, 250), (240, 230, 140)\n",
    "    # ]\n",
    "\n",
    "    # summer_palette = [\n",
    "    #     (176, 224, 230), (250, 240, 230), (224, 255, 255), (255, 228, 225),\n",
    "    #     (240, 255, 255), (245, 245, 245), (211, 211, 211), (135, 206, 250),\n",
    "    #     (255, 240, 245), (176, 196, 222), (255, 250, 250), (240, 248, 255),\n",
    "    #     (123, 104, 238), (143, 188, 143), (255, 245, 238)\n",
    "    # ]\n",
    "\n",
    "    # autumn_palette = [\n",
    "    #     (139, 69, 19), (205, 133, 63), (244, 164, 96), (255, 165, 0),\n",
    "    #     (210, 105, 30), (165, 42, 42), (222, 184, 135), (184, 134, 11),\n",
    "    #     (218, 165, 32), (153, 101, 21), (188, 143, 143), (255, 140, 0),\n",
    "    #     (139, 69, 19), (205, 92, 92), (233, 150, 122)\n",
    "    # ]\n",
    "\n",
    "    # winter_palette = [\n",
    "    #     (0, 0, 139), (255, 255, 255), (128, 0, 0), (47, 79, 79),\n",
    "    #     (70, 130, 180), (25, 25, 112), (0, 128, 128), (72, 61, 139),\n",
    "    #     (0, 255, 255), (176, 196, 222), (0, 0, 205), (105, 105, 105),\n",
    "    #     (0, 100, 0), (112, 128, 144), (0, 191, 255)\n",
    "    # ]\n",
    "\n",
    "    # # Calculate the average color across all face features\n",
    "    # combined_color = tuple(np.mean(feature_colors, axis=0).astype(int))\n",
    "\n",
    "    # # Get the K closest colors from each palette\n",
    "    # closest_spring_colors = knn_closest_colors(combined_color, spring_palette, k)\n",
    "    # closest_summer_colors = knn_closest_colors(combined_color, summer_palette, k)\n",
    "    # closest_autumn_colors = knn_closest_colors(combined_color, autumn_palette, k)\n",
    "    # closest_winter_colors = knn_closest_colors(combined_color, winter_palette, k)\n",
    "\n",
    "    # # Calculate average distance for the K closest colors\n",
    "    # def average_distance(colors):\n",
    "    #     return np.mean([euclidean_distance(combined_color, color) for color in colors])\n",
    "\n",
    "    # palette_distances = {\n",
    "    #     \"Spring\": average_distance(closest_spring_colors),\n",
    "    #     \"Summer\": average_distance(closest_summer_colors),\n",
    "    #     \"Autumn\": average_distance(closest_autumn_colors),\n",
    "    #     \"Winter\": average_distance(closest_winter_colors)\n",
    "    # }\n",
    "\n",
    "    # closest_palette = min(palette_distances, key=palette_distances.get)\n",
    "\n",
    "    # # Print results\n",
    "    # print(f\"Combined Feature Color: {combined_color}\")\n",
    "    # print(f\"Closest Spring Colors: {closest_spring_colors}, Average Distance: {palette_distances['Spring']:.2f}\")\n",
    "    # print(f\"Closest Summer Colors: {closest_summer_colors}, Average Distance: {palette_distances['Summer']:.2f}\")\n",
    "    # print(f\"Closest Autumn Colors: {closest_autumn_colors}, Average Distance: {palette_distances['Autumn']:.2f}\")\n",
    "    # print(f\"Closest Winter Colors: {closest_winter_colors}, Average Distance: {palette_distances['Winter']:.2f}\")\n",
    "    # print(f\"Closest Overall Palette: {closest_palette}\\n\")\n",
    "\n",
    "    # # Visualize the combined average color and the closest palette\n",
    "    # visualize_color(combined_color, \"Combined Average Color\")\n",
    "\n",
    "    # selected_palette = {\n",
    "    #     \"Spring\": spring_palette,\n",
    "#         \"Summer\": summer_palette,\n",
    "#         \"Autumn\": autumn_palette,\n",
    "#         \"Winter\": winter_palette\n",
    "#     }[closest_palette]\n",
    "\n",
    "#     visualize_palette(selected_palette, f\"Closest Palette: {closest_palette}\")\n",
    "\n",
    "# # Example feature colors (you can replace these with actual feature colors)\n",
    "\n",
    "\n",
    "# # Aggregate facial feature colors into a list\n",
    "# feature_colors = [\n",
    "#     average_skin_color,\n",
    "#     average_brows_color,\n",
    "#     average_eyes_color,\n",
    "#     average_lips_color,\n",
    "#     average_hair_color\n",
    "# ]\n",
    "\n",
    "# # Analyze the combined facial feature colors using KNN\n",
    "# analyze_combined_palette_knn(feature_colors, k=3)"
   ]
  },
  {
   "cell_type": "code",
   "execution_count": null,
   "id": "a609a593",
   "metadata": {},
   "outputs": [],
   "source": [
    "# 1.\tThe code first calculates the Euclidean distance between colors to measure similarity.\n",
    "# \t2.\tIt identifies the k closest colors to a target color from a predefined color palette using KNN.\n",
    "# \t3.\tIt visualizes colors and palettes for better understanding.\n",
    "# \t4.\tIt combines the average colors of various facial features and analyzes which predefined palette matches best.\n",
    "# \t5.\tFinally, it visualizes the results to show the closest palette and the average combined color.\n",
    "\n",
    "# This code effectively combines color analysis techniques with visualization to understand\n",
    "# the overall color theme of facial features and match them to predefined palettes,\n",
    "# which could be useful in fields like fashion, cosmetics, and personal styling."
   ]
  },
  {
   "cell_type": "code",
   "execution_count": null,
   "id": "78c2faf8",
   "metadata": {},
   "outputs": [],
   "source": [
    "visualize_color(average_hair_color, \"hair\")"
   ]
  },
  {
   "cell_type": "code",
   "execution_count": null,
   "id": "96e301f2",
   "metadata": {},
   "outputs": [],
   "source": [
    "visualize_color(average_brows_color, \"brows\")"
   ]
  },
  {
   "cell_type": "code",
   "execution_count": null,
   "id": "3c39f82c",
   "metadata": {},
   "outputs": [],
   "source": [
    "visualize_color(average_lips_color, \"lips\")"
   ]
  },
  {
   "cell_type": "code",
   "execution_count": null,
   "id": "b7040784",
   "metadata": {},
   "outputs": [],
   "source": [
    "visualize_color(average_skin_color, \"skin\")"
   ]
  },
  {
   "cell_type": "code",
   "execution_count": null,
   "id": "ff90c3ac",
   "metadata": {},
   "outputs": [],
   "source": [
    "visualize_color(average_eyes_color, \"eyes\")"
   ]
  },
  {
   "cell_type": "code",
   "execution_count": null,
   "id": "afdff6ee",
   "metadata": {},
   "outputs": [],
   "source": [
    "# Using skin as an indicator for the branches of color being warm, cool or neutral.\n",
    "\n",
    "average_skin_color\n",
    "visualize_color(average_skin_color, \"skin\")"
   ]
  },
  {
   "cell_type": "code",
   "execution_count": null,
   "id": "a4e07d57",
   "metadata": {},
   "outputs": [],
   "source": [
    "warm_palette_pop = [\n",
    "    (196, 146, 107),  # RGB color: 196 146 107\n",
    "    (205, 158, 123),  # RGB color: 205 158 123\n",
    "    (214, 171, 138),  # RGB color: 214 171 138\n",
    "    (222, 183, 154),  # RGB color: 222 183 154\n",
    "    (231, 196, 169),  # RGB color: 231 196 169\n",
    "    (240, 208, 185),  # RGB color: 240 208 185\n",
    "\n",
    "    # Adding brighter warm reds\n",
    "    (255, 120, 100),  # Bright warm red\n",
    "    (255, 80, 70),    # Vivid warm red\n",
    "    (255, 60, 50),    # Intense warm red\n",
    "\n",
    "    # Additional bright warm reds\n",
    "    (255, 102, 85),   # Warm salmon red\n",
    "    (255, 87, 34),    # Warm orange-red\n",
    "    (255, 127, 80),   # Warm tangerine\n",
    "    (255, 99, 71),    # Warm tomato red\n",
    "]"
   ]
  },
  {
   "cell_type": "code",
   "execution_count": null,
   "id": "e593accd",
   "metadata": {},
   "outputs": [],
   "source": [
    "cool_palette_pop = [\n",
    "    (176, 132, 118),  # Cool beige with a pinkish tint\n",
    "    (192, 146, 133),  # Slightly darker cool beige with pink undertones\n",
    "    (207, 162, 143),  # Cool peachy beige\n",
    "    (224, 178, 157),  # Light cool peach\n",
    "    (236, 190, 169),  # Soft cool peach\n",
    "    (244, 203, 182),  # Light cool peach\n",
    "\n",
    "    # Adding cooler red and blueish tones\n",
    "    (255, 180, 180),  # Light cool pink\n",
    "    (255, 140, 140),  # Vivid cool pink\n",
    "    (200, 100, 100),  # Cool red\n",
    "    (150, 200, 255),  # Light blueish tint\n",
    "    (100, 150, 255),  # Bright blueish tint\n",
    "\n",
    "    # Additional cool tones with more purple and darker shades\n",
    "\n",
    "    (120, 80, 160),   # Deep purple\n",
    "    (100, 50, 150),   # Darker violet\n",
    "    (80, 40, 120),    # Very dark purple\n",
    "    (60, 30, 100),    # Rich deep purple\n",
    "\n",
    "]"
   ]
  },
  {
   "cell_type": "code",
   "execution_count": null,
   "id": "c016d95c",
   "metadata": {},
   "outputs": [],
   "source": [
    "def display_colors(color_palette):\n",
    "    # Number of colors\n",
    "    num_colors = len(color_palette)\n",
    "\n",
    "    # Create a figure and axis\n",
    "    fig, ax = plt.subplots(figsize=(num_colors, 2))  # Adjust figsize to fit all colors\n",
    "\n",
    "    # Create an array of color blocks\n",
    "    color_blocks = np.arange(num_colors)\n",
    "    color_values = np.array(color_palette) / 255  # Normalize RGB values to [0, 1]\n",
    "\n",
    "    # Display each color as a block\n",
    "    ax.bar(color_blocks, height=1, width=1, color=color_values, edgecolor='none')\n",
    "\n",
    "    # Remove x and y ticks\n",
    "    ax.set_xticks([])\n",
    "    ax.set_yticks([])\n",
    "\n",
    "    # Set limits to ensure colors are displayed correctly\n",
    "    ax.set_xlim(0, num_colors)\n",
    "    ax.set_ylim(0, 1)\n",
    "\n",
    "    # Add title\n",
    "    ax.set_title('Color Palette')\n",
    "\n",
    "    # Show the plot\n",
    "    plt.show()"
   ]
  },
  {
   "cell_type": "code",
   "execution_count": null,
   "id": "968753fb",
   "metadata": {},
   "outputs": [],
   "source": [
    "display_colors(warm_palette_pop)"
   ]
  },
  {
   "cell_type": "code",
   "execution_count": null,
   "id": "60d079a5",
   "metadata": {},
   "outputs": [],
   "source": [
    "display_colors(cool_palette_pop)"
   ]
  },
  {
   "cell_type": "code",
   "execution_count": null,
   "id": "b92abe61",
   "metadata": {},
   "outputs": [],
   "source": [
    "closest_tone_warm = knn_closest_colors(target_color=average_skin_color, color_palette=warm_palette_pop)\n",
    "\n",
    "closest_tone_cool = knn_closest_colors(target_color=average_skin_color, color_palette=cool_palette_pop)\n"
   ]
  },
  {
   "cell_type": "code",
   "execution_count": null,
   "id": "92813a4b",
   "metadata": {},
   "outputs": [],
   "source": [
    "# Using skin as an indicator for the branches of color being warm, cool or neutral.\n",
    "\n",
    "average_skin_color\n",
    "visualize_color(average_skin_color, \"skin\")"
   ]
  },
  {
   "cell_type": "code",
   "execution_count": null,
   "id": "38e0ec06",
   "metadata": {},
   "outputs": [],
   "source": [
    "from sklearn.metrics.pairwise import euclidean_distances\n",
    "\n",
    "def analyze_combined_palette_knn(feature_colors, warm_palette, cool_palette, k=3, distance_threshold=10):\n",
    "    \"\"\"\n",
    "    Analyzes and finds the K closest colors from predefined palettes to the skin using KNN.\n",
    "\n",
    "    Args:\n",
    "    feature_colors (list): List of RGB values of the facial feature colors.\n",
    "    warm_palette (list): List of RGB colors for warm tones.\n",
    "    cool_palette (list): List of RGB colors for cool tones.\n",
    "    k (int): Number of nearest neighbors to consider.\n",
    "\n",
    "    Returns:\n",
    "    tuple: (classification, avg_warm_distance, avg_cool_distance)\n",
    "    classification (str): Classification of the tone as 'warm' or 'cool'.\n",
    "    avg_warm_distance (float): Average distance to the warm palette.\n",
    "    avg_cool_distance (float): Average distance to the cool palette.\n",
    "    \"\"\"\n",
    "\n",
    "    # Find K closest colors in the warm and cool palettes\n",
    "    closest_tone_warm = knn_closest_colors(target_color=feature_colors, color_palette=warm_palette, k=k)\n",
    "    closest_tone_cool = knn_closest_colors(target_color=feature_colors, color_palette=cool_palette, k=k)\n",
    "\n",
    "    # Calculate average distances to the K closest colors\n",
    "    warm_distances = [euclidean_distances([feature_colors], [color])[0][0] for color in closest_tone_warm]\n",
    "    cool_distances = [euclidean_distances([feature_colors], [color])[0][0] for color in closest_tone_cool]\n",
    "\n",
    "    avg_warm_distance = np.mean(warm_distances)\n",
    "    avg_cool_distance = np.mean(cool_distances)\n",
    "\n",
    "    # Determine the classification based on the absolute difference in average distances\n",
    "    if abs(avg_warm_distance - avg_cool_distance) < distance_threshold:\n",
    "        classification = 'neutral'\n",
    "    elif avg_warm_distance < avg_cool_distance:\n",
    "        classification = 'warm'\n",
    "    else:\n",
    "        classification = 'cool'\n",
    "\n",
    "    # Output classification and distances\n",
    "    print(f\"Classification: {classification}\")\n",
    "    print(f\"Average distance to warm palette: {avg_warm_distance}\")\n",
    "    print(f\"Average distance to cool palette: {avg_cool_distance}\")\n",
    "\n",
    "\n",
    "\n",
    "    return classification, avg_warm_distance, avg_cool_distance\n"
   ]
  },
  {
   "cell_type": "code",
   "execution_count": null,
   "id": "0fa63aa9",
   "metadata": {},
   "outputs": [],
   "source": [
    "# using redness as an indicator\n",
    "tone, avg_warm_distance, avg_cool_distance = analyze_combined_palette_knn(average_skin_color, warm_palette, cool_palette, k=5)"
   ]
  },
  {
   "cell_type": "code",
   "execution_count": null,
   "id": "1b0dade6",
   "metadata": {},
   "outputs": [],
   "source": [
    "warm_palette_skin_tones = [\n",
    "    (240, 225, 209),  # Light warm tone\n",
    "    (235, 205, 158),  # Light-medium warm tone\n",
    "    (217, 175, 123),  # Medium warm tone\n",
    "    (192, 142, 93),   # Medium-dark warm tone\n",
    "    (144, 100, 63),   # Dark warm tone\n",
    "    (95, 60, 38),     # Deep warm tone\n",
    "]\n",
    "\n",
    "cool_palette_skin_tones = [\n",
    "    (235, 220, 220),  # Light cool tone\n",
    "    (217, 200, 185),  # Light-medium cool tone\n",
    "    (200, 175, 160),  # Medium cool tone\n",
    "    (160, 130, 115),  # Medium-dark cool tone\n",
    "    (110, 80, 80),    # Dark cool tone\n",
    "    (75, 55, 55),     # Deep cool tone\n",
    "]"
   ]
  },
  {
   "cell_type": "code",
   "execution_count": null,
   "id": "14b11303",
   "metadata": {},
   "outputs": [],
   "source": [
    "display_colors(warm_palette_skin_tones)"
   ]
  },
  {
   "cell_type": "code",
   "execution_count": null,
   "id": "bbcbe663",
   "metadata": {},
   "outputs": [],
   "source": [
    "display_colors(cool_palette_skin_tones)"
   ]
  },
  {
   "cell_type": "code",
   "execution_count": null,
   "id": "a64945a7",
   "metadata": {},
   "outputs": [],
   "source": [
    "tone, avg_warm_distance, avg_cool_distance = analyze_combined_palette_knn(average_skin_color, warm_palette=warm_palette_skin_tones, cool_palette=cool_palette_skin_tones, k=5)"
   ]
  },
  {
   "cell_type": "markdown",
   "id": "a3caf840",
   "metadata": {},
   "source": [
    "Comparison between warm and colors that pop and actual skin tone."
   ]
  },
  {
   "cell_type": "code",
   "execution_count": null,
   "id": "4d5354d5",
   "metadata": {},
   "outputs": [],
   "source": [
    "def analyze_combined_palette_knn(feature_colors, warm_skin_palette, cool_skin_palette, warm_dominant_palette, cool_dominant_palette, k=3, weight_skin=0.6, weight_dominant=0.4):\n",
    "    \"\"\"\n",
    "    Analyzes and finds the K closest colors from predefined palettes to the skin using KNN, combining both\n",
    "    actual skin tone palettes and dominant color palettes.\n",
    "\n",
    "    Args:\n",
    "    feature_colors (list): List of RGB values of the facial feature colors.\n",
    "    warm_skin_palette (list): List of RGB colors for warm skin tones.\n",
    "    cool_skin_palette (list): List of RGB colors for cool skin tones.\n",
    "    warm_dominant_palette (list): List of RGB colors that are dominant in warm tones.\n",
    "    cool_dominant_palette (list): List of RGB colors that are dominant in cool tones.\n",
    "    k (int): Number of nearest neighbors to consider.\n",
    "    weight_skin (float): Weight for the actual skin tone palette.\n",
    "    weight_dominant (float): Weight for the dominant color palette.\n",
    "\n",
    "    Returns:\n",
    "    str: Classification of the tone as 'warm', 'cool', or 'neutral'.\n",
    "    \"\"\"\n",
    "\n",
    "    # Find K closest colors in each palette\n",
    "    closest_skin_warm = knn_closest_colors(feature_colors, warm_skin_palette, k=k)\n",
    "    closest_skin_cool = knn_closest_colors(feature_colors, cool_skin_palette, k=k)\n",
    "    closest_dom_warm = knn_closest_colors(feature_colors, warm_dominant_palette, k=k)\n",
    "    closest_dom_cool = knn_closest_colors(feature_colors, cool_dominant_palette, k=k)\n",
    "\n",
    "    # Calculate average distances to the K closest colors\n",
    "    warm_skin_distances = [np.linalg.norm(np.array(feature_colors) - np.array(color)) for color in closest_skin_warm]\n",
    "    cool_skin_distances = [np.linalg.norm(np.array(feature_colors) - np.array(color)) for color in closest_skin_cool]\n",
    "    warm_dom_distances = [np.linalg.norm(np.array(feature_colors) - np.array(color)) for color in closest_dom_warm]\n",
    "    cool_dom_distances = [np.linalg.norm(np.array(feature_colors) - np.array(color)) for color in closest_dom_cool]\n",
    "\n",
    "    avg_warm_skin_distance = np.mean(warm_skin_distances)\n",
    "    avg_cool_skin_distance = np.mean(cool_skin_distances)\n",
    "    avg_warm_dom_distance = np.mean(warm_dom_distances)\n",
    "    avg_cool_dom_distance = np.mean(cool_dom_distances)\n",
    "\n",
    "    # Weighted average of distances\n",
    "    avg_warm_distance = weight_skin * avg_warm_skin_distance + weight_dominant * avg_warm_dom_distance\n",
    "    avg_cool_distance = weight_skin * avg_cool_skin_distance + weight_dominant * avg_cool_dom_distance\n",
    "\n",
    "    # Determine the closest overall palette\n",
    "    difference = abs(avg_warm_distance - avg_cool_distance)\n",
    "\n",
    "    if difference < 10:  # Threshold for neutral classification\n",
    "        print(\"The tone is classified as neutral.\")\n",
    "        return 'neutral'\n",
    "    elif avg_warm_distance < avg_cool_distance:\n",
    "        print(f\"The tone is classified as warm. Avg warm distance: {avg_warm_distance}, Avg cool distance: {avg_cool_distance}\")\n",
    "        return 'warm'\n",
    "    else:\n",
    "        print(f\"The tone is classified as cool. Avg warm distance: {avg_warm_distance}, Avg cool distance: {avg_cool_distance}\")\n",
    "        return 'cool'"
   ]
  },
  {
   "cell_type": "code",
   "execution_count": null,
   "id": "7ef71def",
   "metadata": {},
   "outputs": [],
   "source": [
    "analyze_combined_palette_knn(\n",
    "    feature_colors= average_skin_color ,\n",
    "    warm_skin_palette= warm_palette_skin_tones,\n",
    "    cool_skin_palette= cool_palette_skin_tones,\n",
    "    warm_dominant_palette= warm_palette_pop,\n",
    "    cool_dominant_palette= cool_palette_pop,\n",
    "    k= 3,\n",
    "    weight_skin= 0.6,\n",
    "    weight_dominant= 0.4\n",
    ")"
   ]
  },
  {
   "cell_type": "code",
   "execution_count": null,
   "id": "e795f822",
   "metadata": {},
   "outputs": [],
   "source": []
  }
 ],
 "metadata": {
  "kernelspec": {
   "display_name": "Python 3 (ipykernel)",
   "language": "python",
   "name": "python3"
  },
  "language_info": {
   "codemirror_mode": {
    "name": "ipython",
    "version": 3
   },
   "file_extension": ".py",
   "mimetype": "text/x-python",
   "name": "python",
   "nbconvert_exporter": "python",
   "pygments_lexer": "ipython3",
   "version": "3.10.6"
  }
 },
 "nbformat": 4,
 "nbformat_minor": 5
}
