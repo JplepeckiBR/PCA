{
 "cells": [
  {
   "cell_type": "code",
   "execution_count": null,
   "id": "039fd8c5",
   "metadata": {},
   "outputs": [],
   "source": [
    "!pwd"
   ]
  },
  {
   "cell_type": "code",
   "execution_count": null,
   "id": "63426d9a-f861-4009-a490-59af2650e889",
   "metadata": {},
   "outputs": [],
   "source": [
    "from PIL import Image\n",
    "import numpy as np\n",
    "\n",
    "\n",
    "background = Image.open(\"../raw_data/facial_segmentation/image/0050_0001.jpg\")"
   ]
  },
  {
   "cell_type": "code",
   "execution_count": null,
   "id": "802b8d02",
   "metadata": {},
   "outputs": [],
   "source": [
    "foreground = Image.open(\"../raw_data/facial_segmentation/mask/0050_0001.png\")"
   ]
  },
  {
   "cell_type": "code",
   "execution_count": null,
   "id": "5543e8fe",
   "metadata": {},
   "outputs": [],
   "source": [
    "R = np.array(background)[:,:,0]"
   ]
  },
  {
   "cell_type": "code",
   "execution_count": null,
   "id": "a247ad29",
   "metadata": {},
   "outputs": [],
   "source": [
    "G = np.array(background)[:,:,1]"
   ]
  },
  {
   "cell_type": "code",
   "execution_count": null,
   "id": "3077f55c",
   "metadata": {},
   "outputs": [],
   "source": [
    "B = np.array(background)[:,:,2]"
   ]
  },
  {
   "cell_type": "code",
   "execution_count": null,
   "id": "9b473c12",
   "metadata": {},
   "outputs": [],
   "source": [
    "RGB = np.dstack(((R*np.array(foreground)),(G*np.array(foreground)) ,(B*np.array(foreground))))\n",
    "RGB.shape"
   ]
  },
  {
   "cell_type": "code",
   "execution_count": null,
   "id": "414d59f4",
   "metadata": {},
   "outputs": [],
   "source": [
    "import matplotlib.pyplot as plt\n",
    "plt.imshow(np.array(background))"
   ]
  },
  {
   "cell_type": "code",
   "execution_count": null,
   "id": "2e9364de",
   "metadata": {},
   "outputs": [],
   "source": [
    "set(np.array(foreground).flatten())"
   ]
  },
  {
   "cell_type": "code",
   "execution_count": null,
   "id": "7857c31c",
   "metadata": {},
   "outputs": [],
   "source": [
    "everything_but_the_face = np.dstack((R*(np.array(foreground)==0),G*(np.array(foreground)==0) ,B*(np.array(foreground)==0)))\n",
    "plt.imshow(everything_but_the_face )"
   ]
  },
  {
   "cell_type": "code",
   "execution_count": null,
   "id": "8e5c7194",
   "metadata": {},
   "outputs": [],
   "source": [
    "skin = np.dstack((R*(np.array(foreground)==1),G*(np.array(foreground)==1) ,B*(np.array(foreground)==1)))\n",
    "plt.imshow(skin)"
   ]
  },
  {
   "cell_type": "code",
   "execution_count": null,
   "id": "aa919522",
   "metadata": {},
   "outputs": [],
   "source": [
    "right_brow = np.dstack((R*(np.array(foreground) ==2),G*(np.array(foreground) ==2) ,B*(np.array(foreground)==2)))"
   ]
  },
  {
   "cell_type": "code",
   "execution_count": null,
   "id": "55e60b32",
   "metadata": {},
   "outputs": [],
   "source": [
    "left_brow = np.dstack((R*(np.array(foreground)==3),G*(np.array(foreground)==3) ,B*(np.array(foreground)==3)))"
   ]
  },
  {
   "cell_type": "code",
   "execution_count": null,
   "id": "0dfa9fd2",
   "metadata": {},
   "outputs": [],
   "source": [
    "brows = right_brow + left_brow\n",
    "plt.imshow(brows)"
   ]
  },
  {
   "cell_type": "code",
   "execution_count": null,
   "id": "2759de64",
   "metadata": {},
   "outputs": [],
   "source": [
    "right_eye = np.dstack((R*(np.array(foreground)==4),G*(np.array(foreground)==4) ,B*(np.array(foreground)==4)))\n"
   ]
  },
  {
   "cell_type": "code",
   "execution_count": null,
   "id": "ae93da43",
   "metadata": {},
   "outputs": [],
   "source": [
    "left_eye = np.dstack((R*(np.array(foreground)==5),G*(np.array(foreground)==5) ,B*(np.array(foreground)==5)))"
   ]
  },
  {
   "cell_type": "code",
   "execution_count": null,
   "id": "d6712bd9",
   "metadata": {},
   "outputs": [],
   "source": [
    "eyes = left_eye + right_eye\n",
    "plt.imshow(eyes)"
   ]
  },
  {
   "cell_type": "code",
   "execution_count": null,
   "id": "fd5aa13e",
   "metadata": {},
   "outputs": [],
   "source": [
    "lowerlip = np.dstack((R*(np.array(foreground)==7),G*(np.array(foreground)==7) ,B*(np.array(foreground)==7)))\n"
   ]
  },
  {
   "cell_type": "code",
   "execution_count": null,
   "id": "a386c551",
   "metadata": {},
   "outputs": [],
   "source": [
    "upperlip = np.dstack((R*(np.array(foreground)==9),G*(np.array(foreground)==9) ,B*(np.array(foreground)==9)))\n"
   ]
  },
  {
   "cell_type": "code",
   "execution_count": null,
   "id": "a791d1d8",
   "metadata": {},
   "outputs": [],
   "source": [
    "lips = upperlip + lowerlip\n",
    "plt.imshow(lips)"
   ]
  },
  {
   "cell_type": "code",
   "execution_count": null,
   "id": "6eca0f8b",
   "metadata": {},
   "outputs": [],
   "source": [
    "hair = np.dstack((R*(np.array(foreground)==10),G*(np.array(foreground)==10) ,B*(np.array(foreground)==10)))\n",
    "plt.imshow(hair)"
   ]
  },
  {
   "cell_type": "code",
   "execution_count": null,
   "id": "756becca",
   "metadata": {},
   "outputs": [],
   "source": [
    "plt.imshow(np.array(foreground)==10)"
   ]
  },
  {
   "cell_type": "code",
   "execution_count": null,
   "id": "a2d2334e",
   "metadata": {},
   "outputs": [],
   "source": [
    "type(hair)"
   ]
  },
  {
   "cell_type": "code",
   "execution_count": null,
   "id": "2346a171",
   "metadata": {},
   "outputs": [],
   "source": [
    "#face_features = [skin, hair, brows, lips ]\n"
   ]
  },
  {
   "cell_type": "code",
   "execution_count": null,
   "id": "73c1eb9c",
   "metadata": {},
   "outputs": [],
   "source": [
    "## Flatten the segment to (num_pixels, 3) where 3 represents the RGB channels\n",
    "#flat_segment = hair.reshape(-1,3)\n"
   ]
  },
  {
   "cell_type": "code",
   "execution_count": null,
   "id": "e90bc268",
   "metadata": {},
   "outputs": [],
   "source": [
    "## Filter out zero pixels (background) by checking where any of the channels is non-zero\n",
    "#non_zero_pixels = flat_segment[np.any(flat_segment != 0, axis=1)]"
   ]
  },
  {
   "cell_type": "code",
   "execution_count": null,
   "id": "ae866431",
   "metadata": {},
   "outputs": [],
   "source": [
    "## Calculate the mean for each channel\n",
    "#mean_red = np.mean(non_zero_pixels[:, 0])\n",
    "#mean_green = np.mean(non_zero_pixels[:, 1])\n",
    "#mean_blue = np.mean(non_zero_pixels[:, 2])"
   ]
  },
  {
   "cell_type": "code",
   "execution_count": null,
   "id": "9dbb5ff9",
   "metadata": {},
   "outputs": [],
   "source": [
    "#mean_red"
   ]
  },
  {
   "cell_type": "code",
   "execution_count": null,
   "id": "34353592",
   "metadata": {},
   "outputs": [],
   "source": [
    "def average_color(segment):\n",
    "    \"\"\"\n",
    "    Calculate the average color of a segment ignoring zero values.\n",
    "\n",
    "    Args:\n",
    "    segment (numpy.ndarray): A 3D array (height, width, channels) representing the RGB values of a segment.\n",
    "\n",
    "    Returns:\n",
    "    tuple: A tuple representing the average (R, G, B) values of the segment.\n",
    "    \"\"\"\n",
    "    # Flatten the segment to (num_pixels, 3) where 3 represents the RGB channels\n",
    "    flat_segment = segment.reshape(-1, 3)\n",
    "\n",
    "    # Filter out zero pixels (background) by checking where any of the channels is non-zero\n",
    "    non_zero_pixels = flat_segment[np.any(flat_segment != 0, axis=1)]\n",
    "\n",
    "    if non_zero_pixels.size == 0:\n",
    "        # If no non-zero pixels are found, return a tuple with zeros (or any default value)\n",
    "        return (0, 0, 0)\n",
    "\n",
    "    # Calculate the mean for each channel\n",
    "    mean_red = np.mean(non_zero_pixels[:, 0])\n",
    "    mean_green = np.mean(non_zero_pixels[:, 1])\n",
    "    mean_blue = np.mean(non_zero_pixels[:, 2])\n",
    "\n",
    "    return (mean_red, mean_green, mean_blue)\n"
   ]
  },
  {
   "cell_type": "code",
   "execution_count": null,
   "id": "57f136c5",
   "metadata": {},
   "outputs": [],
   "source": [
    "# Calculate the average color for each segment\n",
    "average_skin_color = average_color(skin)\n",
    "average_brows_color = average_color(brows)\n",
    "average_eyes_color = average_color(eyes)\n",
    "average_lips_color = average_color(lips)\n",
    "average_hair_color = average_color(hair)"
   ]
  },
  {
   "cell_type": "code",
   "execution_count": null,
   "id": "55f5908c",
   "metadata": {},
   "outputs": [],
   "source": [
    "average_skin_color"
   ]
  },
  {
   "cell_type": "code",
   "execution_count": null,
   "id": "353dae6d",
   "metadata": {},
   "outputs": [],
   "source": [
    "import matplotlib.pyplot as plt\n",
    "import numpy as np\n"
   ]
  },
  {
   "cell_type": "code",
   "execution_count": null,
   "id": "6a964312",
   "metadata": {},
   "outputs": [],
   "source": [
    "def visualize_color(color, title):\n",
    "    \"\"\"\n",
    "    Visualize a solid color image.\n",
    "\n",
    "    Args:\n",
    "    color (tuple): A tuple representing the RGB color (R, G, B).\n",
    "    title (str): Title of the plot.\n",
    "    \"\"\"\n",
    "    # Create a solid color image of size 100x100\n",
    "    image = np.ones((100, 100, 3))\n",
    "    image[:, :, 0] *= color[0] / 255.0\n",
    "    image[:, :, 1] *= color[1] / 255.0\n",
    "    image[:, :, 2] *= color[2] / 255.0\n",
    "\n",
    "    # Plot the image\n",
    "    plt.imshow(image)\n",
    "    plt.title(title)\n",
    "    plt.axis('off')\n",
    "    plt.show()\n"
   ]
  },
  {
   "cell_type": "code",
   "execution_count": null,
   "id": "fd857089",
   "metadata": {},
   "outputs": [],
   "source": [
    "# Visualize colors\n",
    "visualize_color(average_skin_color, 'Average Skin Color')\n",
    "visualize_color(average_brows_color, 'Average Brows Color')\n",
    "visualize_color(average_eyes_color, 'Average Eyes Color')\n",
    "visualize_color(average_lips_color, 'Average Lips Color')\n",
    "visualize_color(average_hair_color, 'Average Hair Color')"
   ]
  },
  {
   "cell_type": "code",
   "execution_count": null,
   "id": "bcc43a2c",
   "metadata": {},
   "outputs": [],
   "source": [
    "def euclidean_distance(color1, color2):\n",
    "    \"\"\"\n",
    "    Calculate the Euclidean distance between two RGB colors.\n",
    "\n",
    "    Args:\n",
    "    color1 (tuple): RGB values of the first color (R1, G1, B1).\n",
    "    color2 (tuple): RGB values of the second color (R2, G2, B2).\n",
    "\n",
    "    Returns:\n",
    "    float: Euclidean distance between the two colors.\n",
    "    \"\"\"\n",
    "    R1, G1, B1 = color1\n",
    "    R2, G2, B2 = color2\n",
    "    return np.sqrt((R1 - R2) ** 2 + (G1 - G2) ** 2 + (B1 - B2) ** 2)\n",
    "\n",
    "def closest_color(target_color, color_palette):\n",
    "    \"\"\"\n",
    "    Find the closest color from a palette to the target color using Euclidean distance.\n",
    "\n",
    "    Args:\n",
    "    target_color (tuple): RGB values of the target color.\n",
    "    color_palette (list): List of RGB tuples representing the color palette.\n",
    "\n",
    "    Returns:\n",
    "    tuple: The closest RGB color from the palette.\n",
    "    \"\"\"\n",
    "    closest = None\n",
    "    min_distance = float('inf')\n",
    "    for color in color_palette:\n",
    "        distance = euclidean_distance(target_color, color)\n",
    "        if distance < min_distance:\n",
    "            min_distance = distance\n",
    "            closest = color\n",
    "    return closest\n",
    "\n",
    "def analyze_palette(face_feature_color):\n",
    "    \"\"\"\n",
    "    Analyzes and finds the closest color from predefined palettes to the given face feature color.\n",
    "\n",
    "    Args:\n",
    "    face_feature_color (tuple): RGB values of the face feature color.\n",
    "\n",
    "    Returns:\n",
    "    None: Prints the closest color from each palette and the closest overall palette.\n",
    "    \"\"\"\n",
    "    # Define example color palettes (representing seasons)\n",
    "    spring_palette = [\n",
    "        (255, 223, 186),  # Light peach\n",
    "        (255, 236, 179),  # Soft yellow\n",
    "        (240, 191, 139),  # Coral\n",
    "        (233, 141, 154),  # Light pink\n",
    "    ]\n",
    "\n",
    "    summer_palette = [\n",
    "        (176, 224, 230),  # Light blue\n",
    "        (250, 240, 230),  # Linen\n",
    "        (224, 255, 255),  # Light cyan\n",
    "        (255, 228, 225),  # Misty rose\n",
    "    ]\n",
    "\n",
    "    autumn_palette = [\n",
    "        (139, 69, 19),    # Saddle brown\n",
    "        (205, 133, 63),   # Peru\n",
    "        (244, 164, 96),   # Sand brown\n",
    "        (255, 165, 0),    # Orange\n",
    "    ]\n",
    "\n",
    "    winter_palette = [\n",
    "        (0, 0, 139),      # Dark blue\n",
    "        (255, 255, 255),  # White\n",
    "        (128, 0, 0),      # Maroon\n",
    "        (47, 79, 79),     # Dark slate gray\n",
    "    ]\n",
    "\n",
    "    # Find the closest color from each palette\n",
    "    closest_spring_color = closest_color(face_feature_color, spring_palette)\n",
    "    closest_summer_color = closest_color(face_feature_color, summer_palette)\n",
    "    closest_autumn_color = closest_color(face_feature_color, autumn_palette)\n",
    "    closest_winter_color = closest_color(face_feature_color, winter_palette)\n",
    "\n",
    "    print(\"Closest Spring Color:\", closest_spring_color)\n",
    "    print(\"Closest Summer Color:\", closest_summer_color)\n",
    "    print(\"Closest Autumn Color:\", closest_autumn_color)\n",
    "    print(\"Closest Winter Color:\", closest_winter_color)\n",
    "\n",
    "    # Find the closest overall palette\n",
    "    palette_distances = {\n",
    "        \"Spring\": euclidean_distance(face_feature_color, closest_spring_color),\n",
    "        \"Summer\": euclidean_distance(face_feature_color, closest_summer_color),\n",
    "        \"Autumn\": euclidean_distance(face_feature_color, closest_autumn_color),\n",
    "        \"Winter\": euclidean_distance(face_feature_color, closest_winter_color),\n",
    "    }\n",
    "\n",
    "    closest_palette = min(palette_distances, key=palette_distances.get)\n",
    "\n",
    "    print(\"Closest Overall Palette:\", closest_palette)\n",
    "\n",
    "    # Visualize the closest palette\n",
    "    if closest_palette == \"Autumn\":\n",
    "        selected_palette = autumn_palette\n",
    "    elif closest_palette == \"Spring\":\n",
    "        selected_palette = spring_palette\n",
    "    elif closest_palette == \"Summer\":\n",
    "        selected_palette = summer_palette\n",
    "    elif closest_palette == \"Winter\":\n",
    "        selected_palette = winter_palette\n",
    "\n",
    "    visualize_palette(selected_palette, f\"Closest Palette: {closest_palette}\")\n",
    "\n",
    "def visualize_palette(palette, title=\"Color Wheel\"):\n",
    "    \"\"\"\n",
    "    Visualizes a given color palette as a color wheel.\n",
    "\n",
    "    Args:\n",
    "    palette (list): List of RGB tuples representing the color palette.\n",
    "    title (str): Title for the plot.\n",
    "    \"\"\"\n",
    "    num_colors = len(palette)\n",
    "    angles = np.linspace(0, 2 * np.pi, num_colors, endpoint=False)\n",
    "    fig, ax = plt.subplots(figsize=(5, 5), subplot_kw={'projection': 'polar'})\n",
    "\n",
    "    for i, color in enumerate(palette):\n",
    "        # Normalize color\n",
    "        normalized_color = np.array(color) / 255.0\n",
    "        # Plot each color in a segment of the wheel\n",
    "        ax.bar(angles[i], 1, color=normalized_color, width=2*np.pi/num_colors)\n",
    "\n",
    "    # Set title and remove axis labels\n",
    "    ax.set_title(title, va='bottom')\n",
    "    ax.set_yticklabels([])\n",
    "    ax.set_xticklabels([])\n",
    "\n",
    "    plt.show()\n"
   ]
  },
  {
   "cell_type": "code",
   "execution_count": null,
   "id": "87d29f40",
   "metadata": {},
   "outputs": [],
   "source": [
    "#Skin color\n",
    "analyze_palette(average_skin_color)"
   ]
  },
  {
   "cell_type": "code",
   "execution_count": null,
   "id": "a1b09a7f",
   "metadata": {},
   "outputs": [],
   "source": [
    "analyze_palette(average_brows_color)"
   ]
  },
  {
   "cell_type": "code",
   "execution_count": null,
   "id": "fffb3da1",
   "metadata": {},
   "outputs": [],
   "source": [
    "analyze_palette(average_eyes_color)"
   ]
  },
  {
   "cell_type": "code",
   "execution_count": null,
   "id": "40a69053",
   "metadata": {},
   "outputs": [],
   "source": [
    "analyze_palette(average_lips_color)"
   ]
  },
  {
   "cell_type": "code",
   "execution_count": null,
   "id": "b158a132",
   "metadata": {},
   "outputs": [],
   "source": []
  },
  {
   "cell_type": "code",
   "execution_count": null,
   "id": "b6184d49",
   "metadata": {},
   "outputs": [],
   "source": []
  },
  {
   "cell_type": "code",
   "execution_count": null,
   "id": "3a7da5c5",
   "metadata": {},
   "outputs": [],
   "source": [
    "# KN clustering model\n",
    "import numpy as np\n",
    "import matplotlib.pyplot as plt\n",
    "from sklearn.cluster import KMeans\n",
    "from sklearn.metrics import pairwise_distances_argmin_min\n",
    "\n",
    "def run_kmeans_clustering(colors, n_clusters):\n",
    "    \"\"\"\n",
    "    Run K-Means clustering on a set of colors.\n",
    "\n",
    "    Args:\n",
    "    colors (np.ndarray): Array of RGB values (shape: num_colors x 3).\n",
    "    n_clusters (int): Number of clusters to form.\n",
    "\n",
    "    Returns:\n",
    "    tuple: (kmeans model, cluster_centers, labels)\n",
    "    \"\"\"\n",
    "    # Initialize K-Means with the desired number of clusters\n",
    "    kmeans = KMeans(n_clusters=n_clusters, random_state=42)\n",
    "\n",
    "    # Fit the model\n",
    "    kmeans.fit(colors)\n",
    "\n",
    "    # Get the cluster centers (average colors of each cluster)\n",
    "    cluster_centers = kmeans.cluster_centers_\n",
    "\n",
    "    # Get the labels for each color\n",
    "    labels = kmeans.labels_\n",
    "\n",
    "    return kmeans, cluster_centers, labels\n",
    "\n",
    "# Example dataset: List of RGB colors (you can replace this with actual image data)\n",
    "example_colors = np.array([\n",
    "    [255, 0, 0],    # Red\n",
    "    [0, 255, 0],    # Green\n",
    "    [0, 0, 255],    # Blue\n",
    "    [255, 255, 0],  # Yellow\n",
    "    [255, 165, 0],  # Orange\n",
    "    [128, 0, 128],  # Purple\n",
    "    [0, 255, 255],  # Cyan\n",
    "    [255, 255, 255], # White\n",
    "    [255, 224, 189], # Skin tone\n",
    "    [140, 70, 40],   # Brow color\n",
    "    [30, 50, 100],   # Dark blue eye color\n",
    "    [200, 80, 90],   # Light red lip color\n",
    "    [50, 25, 10]     # Dark brown hair color\n",
    "])\n",
    "\n",
    "# Run K-Means clustering\n",
    "n_clusters = 5  # Choose the number of clusters you want\n",
    "kmeans, cluster_centers, labels = run_kmeans_clustering(example_colors, n_clusters)\n",
    "\n",
    "# Display the results\n",
    "print(\"Cluster Centers (Average Colors):\", cluster_centers)\n",
    "\n",
    "# Visualize the clusters\n",
    "def visualize_clusters(cluster_centers):\n",
    "    \"\"\"\n",
    "    Visualize the cluster centers as solid color images.\n",
    "\n",
    "    Args:\n",
    "    cluster_centers (np.ndarray): Array of RGB values for each cluster center.\n",
    "    \"\"\"\n",
    "    n_centers = cluster_centers.shape[0]\n",
    "    fig, ax = plt.subplots(1, n_centers, figsize=(15, 3))\n",
    "    for i, color in enumerate(cluster_centers):\n",
    "        ax[i].imshow(np.ones((100, 100, 3), dtype=np.uint8) * np.round(color).astype(np.uint8))\n",
    "        ax[i].set_title(f\"Cluster {i+1}\")\n",
    "        ax[i].axis('off')\n",
    "    plt.show()\n",
    "\n",
    "# Visualize the cluster centers\n",
    "visualize_clusters(cluster_centers)"
   ]
  }
 ],
 "metadata": {
  "kernelspec": {
   "display_name": "Python 3 (ipykernel)",
   "language": "python",
   "name": "python3"
  },
  "language_info": {
   "codemirror_mode": {
    "name": "ipython",
    "version": 3
   },
   "file_extension": ".py",
   "mimetype": "text/x-python",
   "name": "python",
   "nbconvert_exporter": "python",
   "pygments_lexer": "ipython3",
   "version": "3.10.6"
  }
 },
 "nbformat": 4,
 "nbformat_minor": 5
}
