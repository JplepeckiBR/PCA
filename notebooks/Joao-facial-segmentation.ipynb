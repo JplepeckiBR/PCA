{
 "cells": [
  {
   "cell_type": "code",
   "execution_count": null,
   "id": "039fd8c5",
   "metadata": {},
   "outputs": [],
   "source": [
    "!pwd"
   ]
  },
  {
   "cell_type": "code",
   "execution_count": null,
   "id": "63426d9a-f861-4009-a490-59af2650e889",
   "metadata": {},
   "outputs": [],
   "source": [
    "from PIL import Image\n",
    "import numpy as np\n",
    "\n",
    "\n",
    "background = Image.open(\"../raw_data/facial_segmentation/image/0010_0001.jpg\")"
   ]
  },
  {
   "cell_type": "code",
   "execution_count": null,
   "id": "802b8d02",
   "metadata": {},
   "outputs": [],
   "source": [
    "foreground = Image.open(\"../raw_data/facial_segmentation/masks/seg/0010_0001.png\")"
   ]
  },
  {
   "cell_type": "code",
   "execution_count": null,
   "id": "5543e8fe",
   "metadata": {},
   "outputs": [],
   "source": [
    "R = np.array(background)[:,:,0]"
   ]
  },
  {
   "cell_type": "code",
   "execution_count": null,
   "id": "a247ad29",
   "metadata": {},
   "outputs": [],
   "source": [
    "G = np.array(background)[:,:,1]"
   ]
  },
  {
   "cell_type": "code",
   "execution_count": null,
   "id": "3077f55c",
   "metadata": {},
   "outputs": [],
   "source": [
    "B = np.array(background)[:,:,2]"
   ]
  },
  {
   "cell_type": "code",
   "execution_count": null,
   "id": "9b473c12",
   "metadata": {},
   "outputs": [],
   "source": [
    "RGB = np.dstack(((R*np.array(foreground)),(G*np.array(foreground)) ,(B*np.array(foreground))))\n",
    "RGB.shape"
   ]
  },
  {
   "cell_type": "code",
   "execution_count": null,
   "id": "414d59f4",
   "metadata": {},
   "outputs": [],
   "source": [
    "import matplotlib.pyplot as plt\n",
    "plt.imshow(np.array(background))"
   ]
  },
  {
   "cell_type": "code",
   "execution_count": null,
   "id": "2e9364de",
   "metadata": {},
   "outputs": [],
   "source": [
    "set(np.array(foreground).flatten())"
   ]
  },
  {
   "cell_type": "code",
   "execution_count": null,
   "id": "7857c31c",
   "metadata": {},
   "outputs": [],
   "source": [
    "everything_but_the_face = np.dstack((R*(np.array(foreground)==0),G*(np.array(foreground)==0) ,B*(np.array(foreground)==0)))\n",
    "plt.imshow(everything_but_the_face )"
   ]
  },
  {
   "cell_type": "code",
   "execution_count": null,
   "id": "8e5c7194",
   "metadata": {},
   "outputs": [],
   "source": [
    "skin = np.dstack((R*(np.array(foreground)==1),G*(np.array(foreground)==1) ,B*(np.array(foreground)==1)))\n",
    "plt.imshow(skin)"
   ]
  },
  {
   "cell_type": "code",
   "execution_count": null,
   "id": "aa919522",
   "metadata": {},
   "outputs": [],
   "source": [
    "right_brow = np.dstack((R*(np.array(foreground) ==2),G*(np.array(foreground) ==2) ,B*(np.array(foreground)==2)))"
   ]
  },
  {
   "cell_type": "code",
   "execution_count": null,
   "id": "55e60b32",
   "metadata": {},
   "outputs": [],
   "source": [
    "left_brow = np.dstack((R*(np.array(foreground)==3),G*(np.array(foreground)==3) ,B*(np.array(foreground)==3)))"
   ]
  },
  {
   "cell_type": "code",
   "execution_count": null,
   "id": "0dfa9fd2",
   "metadata": {},
   "outputs": [],
   "source": [
    "brows = right_brow + left_brow\n",
    "plt.imshow(brows)"
   ]
  },
  {
   "cell_type": "code",
   "execution_count": null,
   "id": "2759de64",
   "metadata": {},
   "outputs": [],
   "source": [
    "right_eye = np.dstack((R*(np.array(foreground)==4),G*(np.array(foreground)==4) ,B*(np.array(foreground)==4)))\n"
   ]
  },
  {
   "cell_type": "code",
   "execution_count": null,
   "id": "ae93da43",
   "metadata": {},
   "outputs": [],
   "source": [
    "left_eye = np.dstack((R*(np.array(foreground)==5),G*(np.array(foreground)==5) ,B*(np.array(foreground)==5)))"
   ]
  },
  {
   "cell_type": "code",
   "execution_count": null,
   "id": "d6712bd9",
   "metadata": {},
   "outputs": [],
   "source": [
    "eyes = left_eye + right_eye\n",
    "plt.imshow(eyes)"
   ]
  },
  {
   "cell_type": "code",
   "execution_count": null,
   "id": "fd5aa13e",
   "metadata": {},
   "outputs": [],
   "source": [
    "lowerlip = np.dstack((R*(np.array(foreground)==7),G*(np.array(foreground)==7) ,B*(np.array(foreground)==7)))\n"
   ]
  },
  {
   "cell_type": "code",
   "execution_count": null,
   "id": "a386c551",
   "metadata": {},
   "outputs": [],
   "source": [
    "upperlip = np.dstack((R*(np.array(foreground)==9),G*(np.array(foreground)==9) ,B*(np.array(foreground)==9)))\n"
   ]
  },
  {
   "cell_type": "code",
   "execution_count": null,
   "id": "a791d1d8",
   "metadata": {},
   "outputs": [],
   "source": [
    "lips = upperlip + lowerlip\n",
    "plt.imshow(lips)"
   ]
  },
  {
   "cell_type": "code",
   "execution_count": null,
   "id": "6eca0f8b",
   "metadata": {},
   "outputs": [],
   "source": [
    "hair = np.dstack((R*(np.array(foreground)==10),G*(np.array(foreground)==10) ,B*(np.array(foreground)==10)))\n",
    "plt.imshow(hair)"
   ]
  },
  {
   "cell_type": "code",
   "execution_count": null,
   "id": "756becca",
   "metadata": {},
   "outputs": [],
   "source": [
    "plt.imshow(np.array(foreground)==10)"
   ]
  }
 ],
 "metadata": {
  "kernelspec": {
   "display_name": "Python 3 (ipykernel)",
   "language": "python",
   "name": "python3"
  },
  "language_info": {
   "codemirror_mode": {
    "name": "ipython",
    "version": 3
   },
   "file_extension": ".py",
   "mimetype": "text/x-python",
   "name": "python",
   "nbconvert_exporter": "python",
   "pygments_lexer": "ipython3",
   "version": "3.10.6"
  }
 },
 "nbformat": 4,
 "nbformat_minor": 5
}
