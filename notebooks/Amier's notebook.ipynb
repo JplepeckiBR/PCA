{
 "cells": [
  {
   "cell_type": "code",
   "execution_count": 2,
   "metadata": {},
   "outputs": [],
   "source": [
    "from PIL import Image, ImageDraw\n",
    "import matplotlib.pyplot as plt\n",
    "import numpy as np\n",
    "import os\n",
    "import face_recognition\n"
   ]
  },
  {
   "cell_type": "code",
   "execution_count": 7,
   "metadata": {},
   "outputs": [
    {
     "name": "stdout",
     "output_type": "stream",
     "text": [
      "Contents in /Users/amierzuhri/code/JplepeckiBR/PCA/raw_data/facial_recognition_data: ['raw_data']\n"
     ]
    }
   ],
   "source": [
    "import os\n",
    "from PIL import Image\n",
    "import matplotlib.pyplot as plt\n",
    "# Set the directory path\n",
    "base_dir = '/Users/amierzuhri/code/JpLepeckiBR/PCA/raw_data/facial_recognition_data/raw_data'\n",
    "# List all image files in the directory\n",
    "image_files = [f for f in os.listdir(base_dir) if os.path.isfile(os.path.join(base_dir, f)) and f.lower().endswith(('.jpg'))]\n",
    "# Define how many images to display\n",
    "num_images_to_display = min(5, len(image_files))  # Display up to 5 images\n",
    "# Create a figure to display the images\n",
    "plt.figure(figsize=(15, 15))\n",
    "# Loop through and display the images\n",
    "for i in range(num_images_to_display):\n",
    "    img_path = os.path.join(base_dir, image_files[i])\n",
    "    img = Image.open(img_path)\n",
    "    plt.subplot(1, num_images_to_display, i + 1)\n",
    "    plt.imshow(img)\n",
    "    plt.axis('off')  # Hide axis labels\n",
    "    plt\n"
   ]
  },
  {
   "cell_type": "code",
   "execution_count": 15,
   "metadata": {},
   "outputs": [
    {
     "data": {
      "text/plain": [
       "'/'"
      ]
     },
     "execution_count": 15,
     "metadata": {},
     "output_type": "execute_result"
    }
   ],
   "source": []
  },
  {
   "cell_type": "code",
   "execution_count": null,
   "metadata": {},
   "outputs": [],
   "source": []
  }
 ],
 "metadata": {
  "kernelspec": {
   "display_name": "PCA",
   "language": "python",
   "name": "python3"
  },
  "language_info": {
   "codemirror_mode": {
    "name": "ipython",
    "version": 3
   },
   "file_extension": ".py",
   "mimetype": "text/x-python",
   "name": "python",
   "nbconvert_exporter": "python",
   "pygments_lexer": "ipython3",
   "version": "3.10.6"
  }
 },
 "nbformat": 4,
 "nbformat_minor": 2
}
